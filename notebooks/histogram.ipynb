{
 "cells": [
  {
   "cell_type": "code",
   "execution_count": 1,
   "metadata": {},
   "outputs": [],
   "source": [
    "%load_ext autoreload\n",
    "%autoreload 2"
   ]
  },
  {
   "cell_type": "code",
   "execution_count": 2,
   "metadata": {},
   "outputs": [],
   "source": [
    "import os\n",
    "import ibis\n",
    "import dbplot"
   ]
  },
  {
   "cell_type": "code",
   "execution_count": 3,
   "metadata": {},
   "outputs": [
    {
     "data": {
      "text/plain": [
       "['airlines', 'airports', 'flights', 'planes']"
      ]
     },
     "execution_count": 3,
     "metadata": {},
     "output_type": "execute_result"
    }
   ],
   "source": [
    "host = os.environ.get(\"DBPLOT_TEST_POSTGRES_HOST\", \"localhost\")\n",
    "user = os.environ.get(\"DBPLOT_TEST_POSTGRES_USER\", \"postgres\")\n",
    "password = os.environ.get(\"DBPLOT_TEST_POSTGRES_PASSWORD\")\n",
    "database = os.environ.get(\"DBPLOT_TEST_POSTGRES_DATABASE\", \"nycflights13\") \n",
    "con = ibis.postgres.connect(host=host, database=database, user=user, password=password)\n",
    "con.list_tables()"
   ]
  },
  {
   "cell_type": "code",
   "execution_count": 4,
   "metadata": {},
   "outputs": [],
   "source": [
    "flights = con.table(\"flights\")"
   ]
  },
  {
   "cell_type": "code",
   "execution_count": 5,
   "metadata": {},
   "outputs": [
    {
     "data": {
      "text/plain": [
       "(array([ 1160.,   324., 35630., 61071., 33241., 42503., 55711., 50269.,\n",
       "        40484.,  8128.]),\n",
       " array([1.0000e+00, 2.4090e+02, 4.8080e+02, 7.2070e+02, 9.6060e+02,\n",
       "        1.2005e+03, 1.4404e+03, 1.6803e+03, 1.9202e+03, 2.1601e+03,\n",
       "        2.4000e+03]),\n",
       " <a list of 10 Patch objects>)"
      ]
     },
     "execution_count": 5,
     "metadata": {},
     "output_type": "execute_result"
    },
    {
     "data": {
      "image/png": "[encoded data removed]",
      "text/plain": [
       "<Figure size 432x288 with 1 Axes>"
      ]
     },
     "metadata": {
      "needs_background": "light"
     },
     "output_type": "display_data"
    }
   ],
   "source": [
    "dbplot.hist(flights, \"dep_time\")"
   ]
  },
  {
   "cell_type": "code",
   "execution_count": 6,
   "metadata": {},
   "outputs": [
    {
     "data": {
      "text/plain": [
       "(array([9.8900e+02, 1.7100e+02, 1.9000e+01, 3.0500e+02, 7.8600e+03,\n",
       "        2.7770e+04, 3.3634e+04, 2.7437e+04, 1.6076e+04, 1.7165e+04,\n",
       "        2.1114e+04, 2.1389e+04, 3.3375e+04, 2.2336e+04, 2.2524e+04,\n",
       "        2.7745e+04, 2.4251e+04, 1.6233e+04, 5.4830e+03, 2.6450e+03]),\n",
       " array([1.00000e+00, 1.20950e+02, 2.40900e+02, 3.60850e+02, 4.80800e+02,\n",
       "        6.00750e+02, 7.20700e+02, 8.40650e+02, 9.60600e+02, 1.08055e+03,\n",
       "        1.20050e+03, 1.32045e+03, 1.44040e+03, 1.56035e+03, 1.68030e+03,\n",
       "        1.80025e+03, 1.92020e+03, 2.04015e+03, 2.16010e+03, 2.28005e+03,\n",
       "        2.40000e+03]),\n",
       " <a list of 20 Patch objects>)"
      ]
     },
     "execution_count": 6,
     "metadata": {},
     "output_type": "execute_result"
    },
    {
     "data": {
      "image/png": "[encoded data removed]",
      "text/plain": [
       "<Figure size 432x288 with 1 Axes>"
      ]
     },
     "metadata": {
      "needs_background": "light"
     },
     "output_type": "display_data"
    }
   ],
   "source": [
    "dbplot.hist(flights, \"dep_time\", nbins=20)"
   ]
  },
  {
   "cell_type": "code",
   "execution_count": 7,
   "metadata": {},
   "outputs": [
    {
     "data": {
      "text/plain": [
       "(array([ 1108.,    71.,  8165., 44094., 45112., 32876., 32805., 43617.,\n",
       "        44316., 41750., 34607.]),\n",
       " array([1.00000000e+00, 1.82818182e+02, 3.64636364e+02, 5.46454545e+02,\n",
       "        7.28272727e+02, 9.10090909e+02, 1.09190909e+03, 1.27372727e+03,\n",
       "        1.45554545e+03, 1.63736364e+03, 1.81918182e+03, 2.00100000e+03]),\n",
       " <a list of 11 Patch objects>)"
      ]
     },
     "execution_count": 7,
     "metadata": {},
     "output_type": "execute_result"
    },
    {
     "data": {
      "image/png": "[encoded data removed]",
      "text/plain": [
       "<Figure size 432x288 with 1 Axes>"
      ]
     },
     "metadata": {
      "needs_background": "light"
     },
     "output_type": "display_data"
    }
   ],
   "source": [
    "dbplot.hist(flights, \"dep_time\", binwidth=200)"
   ]
  },
  {
   "cell_type": "code",
   "execution_count": null,
   "metadata": {},
   "outputs": [],
   "source": []
  }
 ],
 "metadata": {
  "kernelspec": {
   "display_name": "Python 3",
   "language": "python",
   "name": "python3"
  },
  "language_info": {
   "codemirror_mode": {
    "name": "ipython",
    "version": 3
   },
   "file_extension": ".py",
   "mimetype": "text/x-python",
   "name": "python",
   "nbconvert_exporter": "python",
   "pygments_lexer": "ipython3",
   "version": "3.7.1"
  }
 },
 "nbformat": 4,
 "nbformat_minor": 2
}
